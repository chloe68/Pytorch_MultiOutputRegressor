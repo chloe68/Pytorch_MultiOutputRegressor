{
 "cells": [
  {
   "cell_type": "code",
   "execution_count": 28,
   "metadata": {},
   "outputs": [],
   "source": [
    "import numpy as np\n",
    "import pandas as pd\n",
    "\n",
    "import torch \n",
    "import torch.nn as nn\n",
    "import torch.nn.functional as F\n",
    "import torch.optim as optim\n",
    "from torch.utils.data import Dataset\n",
    "from torchvision import datasets\n",
    "from torchvision.transforms import ToTensor\n",
    "from torch.utils.data import DataLoader\n",
    "\n",
    "import time"
   ]
  },
  {
   "cell_type": "code",
   "execution_count": 10,
   "metadata": {},
   "outputs": [],
   "source": [
    "# Functions to generate y1 and y2 from X_train and X_test\n",
    "def generate_y1(array):\n",
    "    return 2 * np.sum(array) + np.random.randn()\n",
    "\n",
    "def generate_y2(array):\n",
    "    if np.sum(array) >= 0:\n",
    "        return 1\n",
    "    else:\n",
    "        return 0\n",
    "\n",
    "train_size = 8000\n",
    "test_size = 2000\n",
    "\n",
    "input_size = 20\n",
    "hidden_sizes = [50, 50]"
   ]
  },
  {
   "cell_type": "code",
   "execution_count": 13,
   "metadata": {},
   "outputs": [
    {
     "name": "stdout",
     "output_type": "stream",
     "text": [
      "Shape of X_train: (8000, 20)\n",
      "Shape of X_test: (2000, 20)\n",
      "Shape of y1_train: (8000,)\n",
      "Shape of y1_test: (2000,)\n",
      "Shape of y2_train: (8000,)\n",
      "Shape of y2_test: (2000,)\n"
     ]
    }
   ],
   "source": [
    "np.random.seed(0)\n",
    "\n",
    "X_train = np.random.randn(train_size, input_size).astype(np.float32)\n",
    "X_test = np.random.randn(test_size, input_size).astype(np.float32)\n",
    "y1_train = np.apply_along_axis(func1d=generate_y1, axis=1, arr=X_train)\n",
    "y1_test = np.apply_along_axis(func1d=generate_y1, axis=1, arr=X_test)\n",
    "y2_train = np.apply_along_axis(func1d=generate_y2, axis=1, arr=X_train)\n",
    "y2_test = np.apply_along_axis(func1d=generate_y2, axis=1, arr=X_test)\n",
    "\n",
    "print('Shape of X_train:', X_train.shape)\n",
    "print('Shape of X_test:', X_test.shape)\n",
    "print('Shape of y1_train:', y1_train.shape)\n",
    "print('Shape of y1_test:', y1_test.shape)\n",
    "print('Shape of y2_train:', y2_train.shape)\n",
    "print('Shape of y2_test:', y2_test.shape)"
   ]
  },
  {
   "cell_type": "code",
   "execution_count": 12,
   "metadata": {},
   "outputs": [
    {
     "data": {
      "text/plain": [
       "array([[ 1.7640524 ,  0.4001572 ,  0.978738  , ..., -0.20515826,\n",
       "         0.3130677 , -0.85409576],\n",
       "       [-2.5529897 ,  0.6536186 ,  0.8644362 , ...,  1.2023798 ,\n",
       "        -0.3873268 , -0.30230275],\n",
       "       [-1.048553  , -1.420018  , -1.7062702 , ...,  0.3024719 ,\n",
       "        -0.6343221 , -0.36274117],\n",
       "       ...,\n",
       "       [-0.27115998,  0.41401708,  0.33879587, ..., -0.2900122 ,\n",
       "         0.09167031, -0.49718222],\n",
       "       [-0.12011925,  0.6960229 , -2.2862267 , ..., -0.1664335 ,\n",
       "         2.6251683 ,  0.53107285],\n",
       "       [ 0.35580438,  0.15503596,  0.10216598, ...,  0.35143372,\n",
       "         0.5613195 , -1.3860302 ]], dtype=float32)"
      ]
     },
     "execution_count": 12,
     "metadata": {},
     "output_type": "execute_result"
    }
   ],
   "source": [
    "X_train"
   ]
  },
  {
   "cell_type": "code",
   "execution_count": 16,
   "metadata": {},
   "outputs": [],
   "source": [
    "class MultiOutputDataset(Dataset):\n",
    "    def __init__(self,X,y1,y2):\n",
    "        self.X = X \n",
    "        self.y1 = y1 \n",
    "        self.y2 = y2 \n",
    "    \n",
    "    def __len__(self):\n",
    "        return len(self.X)\n",
    "    \n",
    "    def __getitem__(self,idx):\n",
    "        return self.X[idx], self.y1[idx], self.y2[idx]\n",
    "\n",
    "train_loader = DataLoader(dataset=MultiOutputDataset(X_train, y1_train, y2_train), batch_size=8, shuffle=True)\n",
    "test_loader = DataLoader(dataset=MultiOutputDataset(X_test, y1_test, y2_test), batch_size=8, shuffle=True)\n"
   ]
  },
  {
   "cell_type": "code",
   "execution_count": 19,
   "metadata": {},
   "outputs": [],
   "source": [
    "class MultipleOutputModel(nn.Module):\n",
    "    def __init__(self, input_size, hidden_sizes):\n",
    "        super(MultipleOutputModel, self).__init__()\n",
    "        self.input_size = input_size\n",
    "        self.fcs = []  # List of fully connected layers\n",
    "        in_size = input_size\n",
    "        \n",
    "        for i, next_size in enumerate(hidden_sizes):\n",
    "            fc = nn.Linear(in_features=in_size, out_features=next_size)\n",
    "            in_size = next_size\n",
    "            self.__setattr__('fc{}'.format(i), fc)  # # set name for each fullly connected layer\n",
    "            self.fcs.append(fc)\n",
    "            \n",
    "        self.last_fc = nn.Linear(in_features=in_size, out_features=1)\n",
    "        self.sigmoid = nn.Sigmoid()\n",
    "        \n",
    "    def forward(self, x):\n",
    "        for i, fc in enumerate(self.fcs):\n",
    "            x = fc(x)\n",
    "            x = nn.ReLU()(x)\n",
    "        out1 = self.last_fc(x)\n",
    "        x2 = self.last_fc(x)\n",
    "        out2 = self.sigmoid(nn.ReLU()(x2))\n",
    "        return out1, out2"
   ]
  },
  {
   "cell_type": "code",
   "execution_count": 27,
   "metadata": {},
   "outputs": [],
   "source": [
    "# Set mean squared error loss for y1 and binary cross entropy loss for y2\n",
    "# model = LinearRegression(input_size, output_size)\n",
    "\n",
    "model_pytorch = MultipleOutputModel(input_size, hidden_sizes)\n",
    "\n",
    "criterion1 = nn.MSELoss()\n",
    "criterion2 = nn.BCELoss()\n",
    "optimizer = optim.Adam(model_pytorch.parameters(), lr=1e-4)"
   ]
  },
  {
   "cell_type": "code",
   "execution_count": 30,
   "metadata": {},
   "outputs": [],
   "source": [
    "device = torch.device('cuda' if torch.cuda.is_available() else 'cpu')"
   ]
  },
  {
   "cell_type": "code",
   "execution_count": 31,
   "metadata": {},
   "outputs": [
    {
     "name": "stdout",
     "output_type": "stream",
     "text": [
      "Epoch 1 completed. Train loss is 70.786\n",
      "Time taken to completed 20 epochs: 0.02 minutes\n",
      "Epoch 2 completed. Train loss is 15.507\n",
      "Time taken to completed 20 epochs: 0.04 minutes\n",
      "Epoch 3 completed. Train loss is 2.432\n",
      "Time taken to completed 20 epochs: 0.05 minutes\n",
      "Epoch 4 completed. Train loss is 1.952\n",
      "Time taken to completed 20 epochs: 0.07 minutes\n",
      "Epoch 5 completed. Train loss is 1.781\n",
      "Time taken to completed 20 epochs: 0.09 minutes\n",
      "Epoch 6 completed. Train loss is 1.692\n",
      "Time taken to completed 20 epochs: 0.11 minutes\n",
      "Epoch 7 completed. Train loss is 1.640\n",
      "Time taken to completed 20 epochs: 0.12 minutes\n",
      "Epoch 8 completed. Train loss is 1.604\n",
      "Time taken to completed 20 epochs: 0.14 minutes\n",
      "Epoch 9 completed. Train loss is 1.573\n",
      "Time taken to completed 20 epochs: 0.16 minutes\n",
      "Epoch 10 completed. Train loss is 1.552\n",
      "Time taken to completed 20 epochs: 0.17 minutes\n",
      "Epoch 11 completed. Train loss is 1.531\n",
      "Time taken to completed 20 epochs: 0.19 minutes\n",
      "Epoch 12 completed. Train loss is 1.516\n",
      "Time taken to completed 20 epochs: 0.21 minutes\n",
      "Epoch 13 completed. Train loss is 1.501\n",
      "Time taken to completed 20 epochs: 0.23 minutes\n",
      "Epoch 14 completed. Train loss is 1.491\n",
      "Time taken to completed 20 epochs: 0.24 minutes\n",
      "Epoch 15 completed. Train loss is 1.476\n",
      "Time taken to completed 20 epochs: 0.26 minutes\n",
      "Epoch 16 completed. Train loss is 1.464\n",
      "Time taken to completed 20 epochs: 0.28 minutes\n",
      "Epoch 17 completed. Train loss is 1.454\n",
      "Time taken to completed 20 epochs: 0.29 minutes\n",
      "Epoch 18 completed. Train loss is 1.448\n",
      "Time taken to completed 20 epochs: 0.31 minutes\n",
      "Epoch 19 completed. Train loss is 1.442\n",
      "Time taken to completed 20 epochs: 0.33 minutes\n",
      "Epoch 20 completed. Train loss is 1.434\n",
      "Time taken to completed 20 epochs: 0.34 minutes\n",
      "Evaluation completed. Test loss is 7.723\n",
      "Test accuracy is 0.912\n",
      "Time taken to complete evaluation: 0.00 minutes\n"
     ]
    }
   ],
   "source": [
    "# Train model\n",
    "num_epochs = 20\n",
    "time_start = time.time()\n",
    "\n",
    "for epoch in range(num_epochs):\n",
    "    model_pytorch.train()\n",
    "\n",
    "    train_loss_total = 0\n",
    "    \n",
    "    for data, target1, target2 in train_loader:\n",
    "        data, target1, target2 = data.to(device), target1.float().to(device), target2.float().to(device)\n",
    "        optimizer.zero_grad()\n",
    "        output1, output2 = model_pytorch(data)\n",
    "        train_loss_1 = criterion1(output1.squeeze(), target1)\n",
    "        train_loss_2 = criterion2(output2.squeeze(), target2)\n",
    "        train_loss = torch.add(train_loss_1, train_loss_2)\n",
    "        train_loss.backward()\n",
    "        optimizer.step()\n",
    "        train_loss_total += train_loss.item() * data.size(0)\n",
    "        \n",
    "    print('Epoch {} completed. Train loss is {:.3f}'.format(epoch + 1, train_loss_total / train_size))\n",
    "    print('Time taken to completed {} epochs: {:.2f} minutes'.format(num_epochs, (time.time() - time_start) / 60))\n",
    "\n",
    "# Evaluate model\n",
    "model_pytorch.eval()\n",
    "\n",
    "test_loss_total = 0\n",
    "total_num_corrects = 0\n",
    "threshold = 0.9\n",
    "time_start = time.time()\n",
    "\n",
    "for data, target1, target2 in test_loader:\n",
    "    data, target1, target2 = data.to(device), target1.float().to(device), target2.float().to(device)\n",
    "    output1, output2 = model_pytorch(data)\n",
    "    test_loss_1 = criterion1(output1.squeeze(), target1)\n",
    "    test_loss_2 = criterion2(output2.squeeze(), target2)\n",
    "    test_loss = torch.add(test_loss_1, test_loss_2)\n",
    "    test_loss.backward()\n",
    "    optimizer.step()\n",
    "    test_loss_total += test_loss.item() * data.size(0)\n",
    "    \n",
    "    pred = (output2 >= threshold).view_as(target2)  # to make pred have same shape as target\n",
    "    num_correct = torch.sum(pred == target2.byte()).item()\n",
    "    total_num_corrects += num_correct\n",
    "\n",
    "print('Evaluation completed. Test loss is {:.3f}'.format(test_loss_total / test_size))\n",
    "print('Test accuracy is {:.3f}'.format(total_num_corrects / test_size))\n",
    "print('Time taken to complete evaluation: {:.2f} minutes'.format((time.time() - time_start) / 60))"
   ]
  },
  {
   "cell_type": "code",
   "execution_count": null,
   "metadata": {},
   "outputs": [],
   "source": []
  },
  {
   "cell_type": "code",
   "execution_count": null,
   "metadata": {},
   "outputs": [],
   "source": []
  },
  {
   "cell_type": "code",
   "execution_count": null,
   "metadata": {},
   "outputs": [],
   "source": []
  },
  {
   "cell_type": "code",
   "execution_count": null,
   "metadata": {},
   "outputs": [],
   "source": []
  },
  {
   "cell_type": "code",
   "execution_count": null,
   "metadata": {},
   "outputs": [],
   "source": []
  },
  {
   "cell_type": "code",
   "execution_count": null,
   "metadata": {},
   "outputs": [],
   "source": []
  },
  {
   "cell_type": "code",
   "execution_count": null,
   "metadata": {},
   "outputs": [],
   "source": []
  },
  {
   "cell_type": "code",
   "execution_count": null,
   "metadata": {},
   "outputs": [],
   "source": []
  },
  {
   "cell_type": "code",
   "execution_count": null,
   "metadata": {},
   "outputs": [],
   "source": []
  },
  {
   "cell_type": "code",
   "execution_count": null,
   "metadata": {},
   "outputs": [],
   "source": []
  },
  {
   "cell_type": "code",
   "execution_count": null,
   "metadata": {},
   "outputs": [],
   "source": []
  },
  {
   "cell_type": "code",
   "execution_count": null,
   "metadata": {},
   "outputs": [],
   "source": []
  }
 ],
 "metadata": {
  "kernelspec": {
   "display_name": "base",
   "language": "python",
   "name": "python3"
  },
  "language_info": {
   "codemirror_mode": {
    "name": "ipython",
    "version": 3
   },
   "file_extension": ".py",
   "mimetype": "text/x-python",
   "name": "python",
   "nbconvert_exporter": "python",
   "pygments_lexer": "ipython3",
   "version": "3.9.13"
  },
  "orig_nbformat": 4,
  "vscode": {
   "interpreter": {
    "hash": "3d597f4c481aa0f25dceb95d2a0067e73c0966dcbd003d741d821a7208527ecf"
   }
  }
 },
 "nbformat": 4,
 "nbformat_minor": 2
}
